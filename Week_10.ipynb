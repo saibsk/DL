{
  "nbformat": 4,
  "nbformat_minor": 0,
  "metadata": {
    "colab": {
      "provenance": []
    },
    "kernelspec": {
      "name": "python3",
      "display_name": "Python 3"
    },
    "language_info": {
      "name": "python"
    }
  },
  "cells": [
    {
      "cell_type": "code",
      "execution_count": null,
      "metadata": {
        "colab": {
          "base_uri": "https://localhost:8080/"
        },
        "id": "RcyRyvtJxCcf",
        "outputId": "45165c03-e740-4e6c-e4be-369e989cfe09"
      },
      "outputs": [
        {
          "output_type": "stream",
          "name": "stdout",
          "text": [
            "Downloading data from https://storage.googleapis.com/tensorflow/tf-keras-datasets/imdb.npz\n",
            "17464789/17464789 [==============================] - 0s 0us/step\n",
            "Epoch 1/5\n",
            "120/782 [===>..........................] - ETA: 45s - loss: 0.6895 - accuracy: 0.5362"
          ]
        }
      ],
      "source": [
        "import warnings\n",
        "warnings.filterwarnings('ignore')\n",
        "from keras.datasets import imdb\n",
        "from keras.utils import pad_sequences\n",
        "from keras.models import Sequential\n",
        "from keras.layers import Embedding,Bidirectional, SimpleRNN, Dense\n",
        "# Load Dataset and split for Training and Testing\n",
        "features = 2000\n",
        "len = 50\n",
        "(X_train, y_train),(X_test, y_test) = imdb.load_data(num_words=features)\n",
        "# Fix the pad sequence\n",
        "X_train = pad_sequences(X_train, maxlen=len)\n",
        "X_test = pad_sequences(X_test, maxlen=len)\n",
        "embedding = 128\n",
        "hidden = 64\n",
        "# Create a Sequential model object\n",
        "model = Sequential()\n",
        "model.add(Embedding(features, embedding,input_length=len))\n",
        "model.add(Bidirectional(SimpleRNN(hidden)))\n",
        "model.add(Dense(1, activation='sigmoid'))\n",
        "model.compile('adam', 'binary_crossentropy',metrics=['accuracy'])\n",
        "# Set batch size and number of epochs\n",
        "batch_size = 32\n",
        "epochs = 5\n",
        "model.fit(X_train, y_train, batch_size=batch_size, epochs=epochs, validation_data=(X_test, y_test))\n",
        "loss, accuracy = model.evaluate(X_test, y_test)\n",
        "print('Test accuracy:', accuracy)"
      ]
    },
    {
      "cell_type": "code",
      "source": [],
      "metadata": {
        "id": "UnJ0Todsxb8M"
      },
      "execution_count": null,
      "outputs": []
    }
  ]
}