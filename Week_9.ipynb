{
  "nbformat": 4,
  "nbformat_minor": 0,
  "metadata": {
    "colab": {
      "provenance": []
    },
    "kernelspec": {
      "name": "python3",
      "display_name": "Python 3"
    },
    "language_info": {
      "name": "python"
    }
  },
  "cells": [
    {
      "cell_type": "code",
      "execution_count": 4,
      "metadata": {
        "id": "aipMFU9jsWAp"
      },
      "outputs": [],
      "source": [
        "from keras import layers\n",
        "from keras import models"
      ]
    },
    {
      "cell_type": "code",
      "source": [
        "img_height = 224\n",
        "img_width = 224\n",
        "img_channels = 3\n",
        "cardinality = 32"
      ],
      "metadata": {
        "id": "Pxq1Pp0OsirG"
      },
      "execution_count": 5,
      "outputs": []
    },
    {
      "cell_type": "code",
      "source": [
        "def residual_network(x):\n",
        "  def add_common_layers(y):\n",
        "    y = layers.BatchNormalization()(y)\n",
        "    y = layers.LeakyReLU()(y)\n",
        "    return y\n",
        "  def grouped_convolution(y, nb_channels, _strides):\n",
        "    if cardinality == 1:\n",
        "      return layers.Conv2D(nb_channels, kernel_size=(3, 3), strides=_strides, padding='same')(y)\n",
        "    assert not nb_channels % cardinality\n",
        "    _d = nb_channels // cardinality\n",
        "    groups = []\n",
        "    for j in range(cardinality):\n",
        "      group = layers.Lambda(lambda z: z[:, :, :, j * _d:j * _d + _d])(y)\n",
        "      groups.append(layers.Conv2D(_d, kernel_size=(3, 3), strides=_strides, padding='same')(group))\n",
        "    y = layers.concatenate(groups)\n",
        "    return y\n",
        "  def residual_block(y,nb_channels_in, nb_channels_out, _strides=(1, 1), _project_shortcut=False):\n",
        "    shortcut = y\n",
        "    y = layers.Conv2D(nb_channels_in, kernel_size=(1, 1), strides=(1, 1), padding='same')(y)\n",
        "    y = add_common_layers(y)\n",
        "    y = grouped_convolution(y, nb_channels_in, _strides=_strides)\n",
        "    y = add_common_layers(y)\n",
        "    y = layers.Conv2D(nb_channels_out, kernel_size=(1, 1), strides=(1, 1), padding='same')(y)\n",
        "    y = layers.BatchNormalization()(y)\n",
        "    if _project_shortcut or _strides != (1, 1):\n",
        "      shortcut = layers.Conv2D(nb_channels_out, kernel_size=(1, 1), strides=_strides, padding='same')(shortcut)\n",
        "      shortcut = layers.BatchNormalization()(shortcut)\n",
        "    y = layers.add([shortcut, y])\n",
        "    y = layers.LeakyReLU()(y)\n",
        "    return y\n",
        "# conv1\n",
        "  x = layers.Conv2D(64, kernel_size=(7, 7), strides=(2, 2), padding='same')(x)\n",
        "  x = add_common_layers(x)\n",
        "# conv2\n",
        "  x = layers.MaxPool2D(pool_size=(3, 3), strides=(2, 2), padding='same')(x)\n",
        "\n",
        "  for i in range(3):\n",
        "    project_shortcut = True if i == 0 else False\n",
        "    x = residual_block(x, 128, 256, _project_shortcut=project_shortcut)\n",
        "# conv3\n",
        "  for i in range(4):\n",
        "    strides = (2, 2) if i == 0 else (1, 1)\n",
        "    x = residual_block(x, 256, 512, _strides=strides)\n",
        "# conv4\n",
        "  for i in range(6):\n",
        "    strides = (2, 2) if i == 0 else (1, 1)\n",
        "    x = residual_block(x, 512, 1024, _strides=strides)\n",
        "# conv5\n",
        "  for i in range(3):\n",
        "    strides = (2, 2) if i == 0 else (1, 1)\n",
        "    x = residual_block(x, 1024, 2048, _strides=strides)\n",
        "  x = layers.GlobalAveragePooling2D()(x)\n",
        "  x = layers.Dense(1)(x)\n",
        "  return x\n",
        "  image_tensor = layers.Input(shape=(img_height, img_width, img_channels))\n",
        "  network_output = residual_network(image_tensor)\n",
        "  model = models.Model(inputs=[image_tensor], outputs=[network_output])\n",
        "  print(model.summary())"
      ],
      "metadata": {
        "id": "CBvHOrUXsksE"
      },
      "execution_count": 12,
      "outputs": []
    }
  ]
}